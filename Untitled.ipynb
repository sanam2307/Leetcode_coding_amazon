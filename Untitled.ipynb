{
 "cells": [
  {
   "cell_type": "code",
   "execution_count": 1,
   "metadata": {},
   "outputs": [],
   "source": [
    "nums=[2,7,11,15]\n",
    "target=9"
   ]
  },
  {
   "cell_type": "code",
   "execution_count": 2,
   "metadata": {},
   "outputs": [],
   "source": [
    "#Brute force\n",
    "def twoSum(self, nums, target):\n",
    "    for i in range(len(nums)):\n",
    "        for j in range(i+1,len(nums)):\n",
    "            sum=nums[i]+nums[j]\n",
    "            if sum==target:\n",
    "                print([i,j])\n",
    "        \n",
    "        "
   ]
  },
  {
   "cell_type": "code",
   "execution_count": 3,
   "metadata": {},
   "outputs": [],
   "source": [
    "#hashmap\n",
    "def twoSum(self, nums, target):\n",
    "    complementMap=dict()\n",
    "    for i in range(len(nums)):\n",
    "        num=nums[i]\n",
    "        complement=target-num\n",
    "        if num in complementMap:\n",
    "            print([complementMap[num],i])\n",
    "        else:\n",
    "            complementMap[complement]=i\n",
    "        \n",
    "        \n",
    "        "
   ]
  },
  {
   "cell_type": "code",
   "execution_count": 4,
   "metadata": {},
   "outputs": [
    {
     "name": "stdout",
     "output_type": "stream",
     "text": [
      "[0, 1]\n"
     ]
    }
   ],
   "source": [
    "twoSum(None,nums,target)\n"
   ]
  },
  {
   "cell_type": "code",
   "execution_count": 14,
   "metadata": {},
   "outputs": [],
   "source": [
    "#linkedlist\n",
    "class node:\n",
    "    def __init__(self,data):\n",
    "        self.data=data\n",
    "        self.next=None\n"
   ]
  },
  {
   "cell_type": "code",
   "execution_count": 20,
   "metadata": {},
   "outputs": [],
   "source": [
    "class linkedlist:\n",
    "    def __init__():\n",
    "        head=node()\n",
    "   \n",
    "    def append(data):\n",
    "        new_node=node(data)\n",
    "        cur=node(data)\n",
    "        while cur.next!=None:\n",
    "            cur=cur.next\n",
    "        cur.next=new_node\n",
    "    \n",
    "    def length(head):\n",
    "        cur=head()\n",
    "        total=0\n",
    "        while cur.next!=None:\n",
    "            total +=1\n",
    "            cur=cur.next\n",
    "        return total\n",
    "    \n",
    "    def display(head):\n",
    "        elems=[]\n",
    "        cur_node=head\n",
    "        while cur_node.next!=None:\n",
    "            cur_node=cur_node.next\n",
    "            elems.append(cur_node.data)\n",
    "        print(elems)\n",
    "        \n"
   ]
  },
  {
   "cell_type": "code",
   "execution_count": 16,
   "metadata": {},
   "outputs": [],
   "source": [
    " def length(head):\n",
    "        cur=head\n",
    "        total=0\n",
    "        while cur.next!=None:\n",
    "            total +=1\n",
    "            cur=cur.next\n",
    "        return total"
   ]
  },
  {
   "cell_type": "code",
   "execution_count": 21,
   "metadata": {},
   "outputs": [
    {
     "name": "stdout",
     "output_type": "stream",
     "text": [
      "This linked list's length is: (should print 5)\n"
     ]
    },
    {
     "data": {
      "text/plain": [
       "<__main__.node at 0x234cafc6668>"
      ]
     },
     "metadata": {},
     "output_type": "display_data"
    },
    {
     "name": "stdout",
     "output_type": "stream",
     "text": [
      "None\n"
     ]
    }
   ],
   "source": [
    "mylist1=node(5)\n",
    "mylist2=node(6)\n",
    "mylist3=node(3)\n",
    "mylist4=node(2)\n",
    "mylist5=node(1)\n",
    "mylist6=node(9)\n",
    "\n",
    "mylist1.next=mylist2\n",
    "mylist2.next=mylist3\n",
    "mylist3.next=mylist4\n",
    "mylist4.next=mylist5\n",
    "mylist5.next=mylist6\n",
    "\n",
    "print(\"This linked list's length is: (should print 5)\")\n",
    "print(display(mylist1))\n"
   ]
  },
  {
   "cell_type": "code",
   "execution_count": null,
   "metadata": {},
   "outputs": [],
   "source": []
  },
  {
   "cell_type": "code",
   "execution_count": null,
   "metadata": {},
   "outputs": [],
   "source": []
  }
 ],
 "metadata": {
  "kernelspec": {
   "display_name": "Python 3",
   "language": "python",
   "name": "python3"
  },
  "language_info": {
   "codemirror_mode": {
    "name": "ipython",
    "version": 3
   },
   "file_extension": ".py",
   "mimetype": "text/x-python",
   "name": "python",
   "nbconvert_exporter": "python",
   "pygments_lexer": "ipython3",
   "version": "3.6.5"
  }
 },
 "nbformat": 4,
 "nbformat_minor": 2
}
